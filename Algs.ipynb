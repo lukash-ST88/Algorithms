{
 "cells": [
  {
   "cell_type": "markdown",
   "id": "908ac6f3-22f6-4afb-bb3f-14a73863a5a8",
   "metadata": {
    "jp-MarkdownHeadingCollapsed": true,
    "tags": []
   },
   "source": [
    "<h2>Queue [O(1)]</h2>"
   ]
  },
  {
   "cell_type": "code",
   "execution_count": 7,
   "id": "f1e7f5c6-e770-40d5-b24e-f72c927c2746",
   "metadata": {},
   "outputs": [
    {
     "name": "stdout",
     "output_type": "stream",
     "text": [
      "deque([5, 6]) 7 4\n"
     ]
    }
   ],
   "source": [
    "import collections\n",
    "q = collections.deque()\n",
    "q.append(5)\n",
    "q.append(6)\n",
    "q.append(7)\n",
    "q.appendleft(4)\n",
    "q1 = q.pop()\n",
    "q2 = q.popleft()\n",
    "print(q, q1, q2, end='\\n')"
   ]
  },
  {
   "cell_type": "markdown",
   "id": "4714b201-a6f5-447b-a54a-66b5b9370e4d",
   "metadata": {
    "jp-MarkdownHeadingCollapsed": true,
    "tags": []
   },
   "source": [
    "<h2> Binary Search [O(log n)] </h2>"
   ]
  },
  {
   "cell_type": "code",
   "execution_count": 2,
   "id": "0e544610-6de6-4659-9ee4-6db93cb624ef",
   "metadata": {},
   "outputs": [
    {
     "name": "stdout",
     "output_type": "stream",
     "text": [
      "39 = 39\n"
     ]
    }
   ],
   "source": [
    "def binary_search(list1, item):\n",
    "    list1 = sorted(list1)\n",
    "    low = 0\n",
    "    high = len(list1) - 1\n",
    "    while low <= high:\n",
    "        mid = int((high + low)/2)\n",
    "        guess = list1[mid]\n",
    "        if guess == item:\n",
    "            return str(guess) + ' = ' + str(item)\n",
    "        if guess > item:\n",
    "            high = mid - 1\n",
    "        else:\n",
    "            low = mid + 1\n",
    "    return None\n",
    "list1 = [1, 3, 5, 5 , 7, 39, 47, 975, 9, 28, 56]\n",
    "x = binary_search(list1, 39)\n",
    "print(x)"
   ]
  },
  {
   "cell_type": "markdown",
   "id": "48f3ac40-5f8e-4a0a-a797-ef68503166c2",
   "metadata": {
    "jp-MarkdownHeadingCollapsed": true,
    "tags": []
   },
   "source": [
    "<h2> Selection Sort [O(n^2)] </h2>"
   ]
  },
  {
   "cell_type": "code",
   "execution_count": 3,
   "id": "8c7b8848-7372-485c-8fae-5b4a75a88c5f",
   "metadata": {},
   "outputs": [
    {
     "data": {
      "text/plain": [
       "[1, 2, 3, 4, 5, 7]"
      ]
     },
     "execution_count": 3,
     "metadata": {},
     "output_type": "execute_result"
    }
   ],
   "source": [
    "# first example\n",
    "def selection_sort(list2):\n",
    "    newlist2 = []\n",
    "    def Findsmallest(arr):\n",
    "        smallest = arr[0]\n",
    "        smallest_index = 0\n",
    "        for i in range(len(arr)):\n",
    "            if arr[i] < smallest:\n",
    "                smallest = arr[i]\n",
    "                smallest_index = i\n",
    "        return smallest_index\n",
    "    for a in range(len(list2)):\n",
    "        smallest = Findsmallest(list2)\n",
    "        newlist2.append(list2.pop(smallest))\n",
    "    return newlist2\n",
    "list2 = [2, 4, 5, 3, 1, 7]\n",
    "selection_sort(list2)\n",
    "        "
   ]
  },
  {
   "cell_type": "code",
   "execution_count": 4,
   "id": "40d6224c-3124-4e52-976f-04a64a7c9bbd",
   "metadata": {},
   "outputs": [
    {
     "name": "stdout",
     "output_type": "stream",
     "text": [
      "[-53, 2, 8, 10, 11]\n"
     ]
    }
   ],
   "source": [
    "#second example\n",
    "lst = [8, 11, -53, 2, 10]\n",
    "for i in range(len(lst)):\n",
    "    for j in range(i+1, len(lst)):\n",
    "        if lst[i] > lst[j]:\n",
    "            lst[i], lst[j] = lst[j], lst[i]\n",
    "print(lst)"
   ]
  },
  {
   "cell_type": "code",
   "execution_count": 3,
   "id": "d8bf8264-73ae-43cb-bbd4-fcce9c33f376",
   "metadata": {},
   "outputs": [
    {
     "name": "stdout",
     "output_type": "stream",
     "text": [
      "[-53, 2, 8, 10, 11]\n"
     ]
    }
   ],
   "source": [
    "# third example\n",
    "lst = [8, 11, -53, 2, 10]\n",
    "N = len(lst)\n",
    "for i in range(N-1):\n",
    "    m = lst[i] # min value\n",
    "    p = i # index min value\n",
    "    for j in range(i+1, N): # search of min\n",
    "        if m > lst[j]:  \n",
    "            m = lst[j]\n",
    "            p = j\n",
    "    if p != i: # exchange values\n",
    "        t = lst[i]\n",
    "        lst[i] = lst[p]\n",
    "        lst[p] = t \n",
    "print(lst)"
   ]
  },
  {
   "cell_type": "markdown",
   "id": "890ae2a6-eb56-49c9-9c75-d95dd75330c9",
   "metadata": {
    "jp-MarkdownHeadingCollapsed": true,
    "tags": []
   },
   "source": [
    "<h2> Insert sorting [max O(n^2)] </h2>"
   ]
  },
  {
   "cell_type": "code",
   "execution_count": 7,
   "id": "178ad771-c24f-494d-be98-fa2f25dae758",
   "metadata": {},
   "outputs": [
    {
     "name": "stdout",
     "output_type": "stream",
     "text": [
      "[-53, 2, 8, 10, 11]\n"
     ]
    }
   ],
   "source": [
    "lst = [8, 11, -53, 2, 10]\n",
    "N = len(lst)\n",
    "for i in range(1, N):\n",
    "    for j in range(i, 0, -1):\n",
    "        if lst[j] < lst[j-1]:\n",
    "            lst[j], lst[j-1] = lst[j-1], lst[j]\n",
    "        else:\n",
    "            break\n",
    "print(lst)"
   ]
  },
  {
   "cell_type": "markdown",
   "id": "2a216451-cf8e-42e2-bda7-f88ef8d6112a",
   "metadata": {
    "jp-MarkdownHeadingCollapsed": true,
    "tags": []
   },
   "source": [
    "<h2> Bubble sort [max O(n^2)] </h2>"
   ]
  },
  {
   "cell_type": "code",
   "execution_count": 5,
   "id": "f7db3b09-1507-452b-82cd-c90e26cf119b",
   "metadata": {},
   "outputs": [
    {
     "name": "stdout",
     "output_type": "stream",
     "text": [
      "[-53, 2, 8, 10, 11]\n"
     ]
    }
   ],
   "source": [
    "lst = [8, 11, -53, 2, 10]\n",
    "for i in range(len(lst)):\n",
    "    for j in range(len(lst)-1-i):\n",
    "        if lst[j] > lst[j+1]:\n",
    "            lst[j], lst[j+1] = lst[j+1], lst[j]\n",
    "print(lst)"
   ]
  },
  {
   "cell_type": "markdown",
   "id": "a433bd70-87ff-4fa6-9535-52b6632859f0",
   "metadata": {
    "jp-MarkdownHeadingCollapsed": true,
    "tags": []
   },
   "source": [
    "<h2> Quick Merge sort [O(n log n)] </h2>"
   ]
  },
  {
   "cell_type": "code",
   "execution_count": 5,
   "id": "a2065ec0-b788-46f6-b0de-5b8c6b75ec58",
   "metadata": {},
   "outputs": [],
   "source": [
    "# let's make a function of Merging two ordered lists\n",
    "def merge_list(a, b):\n",
    "    c = []\n",
    "    i = 0\n",
    "    j = 0\n",
    "\n",
    "    while i < len(a) and j < len(b):\n",
    "        if a[i] > b[j]:\n",
    "            c.append(b[j])\n",
    "            j += 1\n",
    "        else:\n",
    "            c.append(a[i])\n",
    "            i += 1\n",
    "    c += a[i:] + b[j:]\n",
    "    return c\n",
    "    "
   ]
  },
  {
   "cell_type": "code",
   "execution_count": 7,
   "id": "d030a572-9a56-49e1-b677-21d4bab289d7",
   "metadata": {},
   "outputs": [
    {
     "data": {
      "text/plain": [
       "[-8, -3, 4, 5, 7, 8, 9]"
      ]
     },
     "execution_count": 7,
     "metadata": {},
     "output_type": "execute_result"
    }
   ],
   "source": [
    "#the function of dividing a list and merging a list into a common ordered list\n",
    "def split_and_merge_list(a):\n",
    "    N = len(a) // 2\n",
    "    a1 = a[:N]\n",
    "    a2 = a[N:]\n",
    "    \n",
    "    if len(a1) > 1:\n",
    "        a1 = split_and_merge_list(a1) \n",
    "    if len(a2) > 1:\n",
    "        a2 = split_and_merge_list(a2)\n",
    "    return merge_list(a1, a2)\n",
    "\n",
    "a = [9, 5, -3, 4, 7, 8, -8]\n",
    "sorted_list = split_and_merge_list(a)\n",
    "sorted_list"
   ]
  },
  {
   "cell_type": "markdown",
   "id": "590dee95-cddb-4a4e-87ec-6fc013099040",
   "metadata": {
    "jp-MarkdownHeadingCollapsed": true,
    "tags": []
   },
   "source": [
    "<h2> Recurtion </h2>"
   ]
  },
  {
   "cell_type": "code",
   "execution_count": 6,
   "id": "d3eba5d6-c58b-46a4-aa77-dbce3b7d7ed7",
   "metadata": {},
   "outputs": [
    {
     "name": "stdout",
     "output_type": "stream",
     "text": [
      "120\n"
     ]
    }
   ],
   "source": [
    "def fact(x):\n",
    "    if x == 1:\n",
    "        return 1\n",
    "    else: \n",
    "        return x * fact(x-1)\n",
    "print(fact(5))"
   ]
  },
  {
   "cell_type": "markdown",
   "id": "fb479636-e234-4626-8c5c-c54e35897a64",
   "metadata": {
    "jp-MarkdownHeadingCollapsed": true,
    "tags": []
   },
   "source": [
    "<h2> Quick Sorting of Hoar [O(n log n)] </h2>"
   ]
  },
  {
   "cell_type": "code",
   "execution_count": 7,
   "id": "c3395580-0de0-4a00-9669-19dc403072a9",
   "metadata": {},
   "outputs": [
    {
     "data": {
      "text/plain": [
       "[1, 3, 4, 10]"
      ]
     },
     "execution_count": 7,
     "metadata": {},
     "output_type": "execute_result"
    }
   ],
   "source": [
    "# example 1\n",
    "def QuickSort(array):\n",
    "    if len(array) < 2:\n",
    "        return array \n",
    "    else:\n",
    "        pivot = array[0]\n",
    "        less = [i for i in array[1:] if i <= pivot]\n",
    "        greater = [ i for i in array[1:] if i > pivot]\n",
    "        return QuickSort(less) + [pivot] + QuickSort(greater)\n",
    "QuickSort([10, 4, 3, 1])\n"
   ]
  },
  {
   "cell_type": "code",
   "execution_count": 9,
   "id": "96bea0e2-5515-4cf3-a768-9c2382829537",
   "metadata": {},
   "outputs": [
    {
     "data": {
      "text/plain": [
       "[-8, -3, 4, 5, 7, 8, 9]"
      ]
     },
     "execution_count": 9,
     "metadata": {},
     "output_type": "execute_result"
    }
   ],
   "source": [
    "# example 2\n",
    "import random\n",
    "def QuickSortHoar(a):\n",
    "    if len(a) > 1:\n",
    "        x = a[random.randint(0, len(a)-1)] # defining a random start number\n",
    "        low = [u for u in a if u < x]\n",
    "        eq = [u for u in a if u == x]\n",
    "        hi = [u for u in a if u > x]\n",
    "        a = QuickSortHoar(low) + eq + QuickSortHoar(hi)\n",
    "    return a\n",
    "\n",
    "a = [9, 5, -3, 4, 7, 8, -8]\n",
    "sorted_list =QuickSortHoar(a)\n",
    "sorted_list\n",
    "        "
   ]
  },
  {
   "cell_type": "markdown",
   "id": "3899331f-d419-4673-bc56-b703ac33aaa4",
   "metadata": {
    "jp-MarkdownHeadingCollapsed": true,
    "tags": []
   },
   "source": [
    "<h2> Breadth-first Search [O(v+e)] </h2>\n",
    "<p> where v - quantity of people, e - quantity of edges </p>"
   ]
  },
  {
   "cell_type": "code",
   "execution_count": 8,
   "id": "39b2e90e-c839-4797-8d12-ca40269865f4",
   "metadata": {},
   "outputs": [
    {
     "name": "stdout",
     "output_type": "stream",
     "text": [
      "Peggy is mango seller!\n"
     ]
    },
    {
     "data": {
      "text/plain": [
       "True"
      ]
     },
     "execution_count": 8,
     "metadata": {},
     "output_type": "execute_result"
    }
   ],
   "source": [
    "friends = {}\n",
    "friends['i'] = ['Clar', 'Alisa', 'Bob']\n",
    "friends['Clar'] = ['Tom', 'Johnny']\n",
    "friends['Alisa'] = ['Peggy']\n",
    "friends['Bob'] = ['Ange', 'Peggy']\n",
    "friends['Tom'] = []\n",
    "friends['Johnny'] = []\n",
    "friends['Peggy'] = ['Mango']\n",
    "friends['Ange'] = []\n",
    "\n",
    " \n",
    "from collections import deque\n",
    "def BreadthFirstSearch(name):\n",
    "    search_queue = deque()\n",
    "    search_queue += friends[name]\n",
    "    while search_queue:\n",
    "        person = search_queue.popleft()\n",
    "        if friends[person] == ['Mango']:\n",
    "            print(f'{person} is mango seller!')\n",
    "            return True\n",
    "        else:\n",
    "            search_queue += friends[person]\n",
    "    return False\n",
    "BreadthFirstSearch('i')\n",
    "\n"
   ]
  },
  {
   "cell_type": "markdown",
   "id": "fa0bbd0e-b3e8-41c8-955f-69f95db559d3",
   "metadata": {
    "jp-MarkdownHeadingCollapsed": true,
    "tags": []
   },
   "source": [
    "<h2>Greedy algorithm</h2>"
   ]
  },
  {
   "cell_type": "code",
   "execution_count": 9,
   "id": "3752a6cc-1be4-4c63-96fe-0ba75cc9f315",
   "metadata": {},
   "outputs": [
    {
     "name": "stdout",
     "output_type": "stream",
     "text": [
      "[64, 64, 64, 16, 8, 4, 1]\n"
     ]
    }
   ],
   "source": [
    "#first example (the aim is to find a list of bill if we would like to pay a reciept by cash and starting from a biggest bill)\n",
    "reciept = 221\n",
    "bill = [1, 2, 4, 8, 16, 32, 64]\n",
    "s_bill = sorted(bill, reverse=True)\n",
    "sumt = 0\n",
    "lst = []\n",
    "for i in range(len(s_bill)):\n",
    "    while sumt < reciept:\n",
    "        sumt += s_bill[i]\n",
    "        lst.append(s_bill[i])\n",
    "    if sumt == reciept:\n",
    "        break\n",
    "    sumt -= s_bill[i]\n",
    "    lst.pop()\n",
    "print(lst)"
   ]
  },
  {
   "cell_type": "markdown",
   "id": "5043de90-2167-4141-b610-f2c5c7ccbfa9",
   "metadata": {
    "jp-MarkdownHeadingCollapsed": true,
    "tags": []
   },
   "source": [
    "<h2> Knuth-Morris-Pratt algorithm O[n+m]</h2>\n",
    "<p> where n - the length of matching string, m - the length of view string </p>\n"
   ]
  },
  {
   "cell_type": "code",
   "execution_count": 13,
   "id": "548bc482-4fcd-46e2-a568-d390264ef434",
   "metadata": {},
   "outputs": [
    {
     "name": "stdout",
     "output_type": "stream",
     "text": [
      "pi is defined:[0, 0, 1, 2, 3, 0]\n",
      "the match is found\n"
     ]
    }
   ],
   "source": [
    "\"\"\"The aim is to find a substring in a string.\"\"\"\n",
    "# this algorithm is created to amplify the search of match strings\n",
    "# first of all it's necessary to find the max length of matching prefix and suffix\n",
    "\"\"\"Step 1 - defining the pi value, which represents the max similiarity between prefix and suffix\"\"\"\n",
    "a = 'лилила'\n",
    "pi = [0] * len(a)\n",
    "i = 1\n",
    "j = 0\n",
    "while i < len(a):\n",
    "    if a[i] == a[j]:\n",
    "        pi[i] = j+1\n",
    "        i += 1\n",
    "        j += 1\n",
    "    else:\n",
    "        if j == 0:\n",
    "            pi[i] = 0\n",
    "            i += 1\n",
    "        else:\n",
    "            j=pi[j-1] # most important development\n",
    "if i == len(a):\n",
    "    print(f\"pi is defined:{pi}\") \n",
    "    \n",
    "\"\"\"Step 2 - comparing of two strings using pi\"\"\"\n",
    "a = 'лилила'\n",
    "b = 'лилилась лилилось'\n",
    "j = 0\n",
    "i = 0\n",
    "n = len(a)\n",
    "m = len(b)\n",
    "while i < m:\n",
    "    if a[j] == b[i]:\n",
    "        i += 1\n",
    "        j += 1\n",
    "        if j == n: \n",
    "            print(\"the match is found\")\n",
    "            break\n",
    "    else:\n",
    "        if j > 0:\n",
    "            j = pi[j-1]\n",
    "        else:\n",
    "            i += 1\n",
    "if i == m:\n",
    "    print(\"there aren't any matches\")"
   ]
  },
  {
   "cell_type": "markdown",
   "id": "d33eaf27-cfc0-4f1e-9f2d-e4f55a06a9a1",
   "metadata": {
    "jp-MarkdownHeadingCollapsed": true,
    "tags": []
   },
   "source": [
    "<h2>Boyer–Moore–Horspool algorithm O[m/E]</h2>\n",
    "<p> where  m - the length of view string, E - the count of uniqe letters in a match string and view </p>"
   ]
  },
  {
   "cell_type": "code",
   "execution_count": null,
   "id": "d228e68b-7e88-416d-adfb-bcac7313d244",
   "metadata": {},
   "outputs": [],
   "source": [
    "\"\"\"The aim is to find a substring in a string.\"\"\"\n",
    "# this algorithm is created to amplify the search of match strings\n",
    "\n",
    "\"\"\"Step 1 - defining a dictionary of shift\"\"\"\n",
    "dct = {} # dictionary of shift\n",
    "a = 'данные' \n",
    "m = len(t)\n",
    "for i in range(m-2, -1, -1): #creating cycle from penultimate letter to the first letter\n",
    "    if a[i] not in dct.keys(): # asigning if a new letter to the dict\n",
    "        dct[a[i]] = m-1-i \n",
    "if t[m-1] not in dct.keys(): #\n",
    "    dct[a[m-1]] = m\n",
    "dct['*'] = m\n",
    "print(dct)\n",
    "\n",
    "\"\"\"Step 2 - matching a view \"\"\"\n",
    "b = \"большие метеоданные\"\n",
    "n = len(b)\n",
    "if n >= m: #checking if a view longer then a string\n",
    "    i = m-1 # create a counter matching last letter of the view\n",
    "    while i < n: \n",
    "        k = 0 # create a backward counter for the string\n",
    "        for j in range(m-1, -1, -1): # create a backward counter for the view\n",
    "            if b[i-k] != a[j]:  \n",
    "                if j == m-1: # if j equals to last letter then use a matching string for shift\n",
    "                    shift = dct[b[i]] if dct.get(b[i], False) else dct['*']\n",
    "                else: # in another case use a view string for shift\n",
    "                    shift = dct[a[j]] \n",
    "                i += shift # making a shift if the view doesn't match\n",
    "                break\n",
    "            k += 1\n",
    "        if j == 0: \n",
    "            print(f'the view is found by index: {i-k+1}')\n",
    "            break\n",
    "    if i >= n:\n",
    "        print('the view has been not found')\n",
    "else:\n",
    "    print('the view has been not found')\n",
    "    "
   ]
  },
  {
   "cell_type": "markdown",
   "id": "35fe73d1-a2fc-4768-9306-0f83d20688e7",
   "metadata": {
    "jp-MarkdownHeadingCollapsed": true,
    "tags": []
   },
   "source": [
    "<h2> Dijkstra’s algorithm </h2>\n",
    "<p> (non-directed) [O(n^2)] </p>"
   ]
  },
  {
   "cell_type": "code",
   "execution_count": 42,
   "id": "e94737bd-9da6-45a9-8c6b-ef7f1c56e15e",
   "metadata": {},
   "outputs": [
    {
     "name": "stdout",
     "output_type": "stream",
     "text": [
      "[0, 3, 1, 3, 8, 5]\n"
     ]
    }
   ],
   "source": [
    "\"\"\" The aim is to find the shortest way to all nodes from the beginning node \"\"\"\n",
    "import math\n",
    "\n",
    "def get_link_v(v, D): # get link to connected nodes to researched one\n",
    "    for i, weight in enumerate(D[v]):\n",
    "        if weight > 0:\n",
    "            yield i\n",
    "            \n",
    "def arg_min(T, S): # get node with min value \n",
    "    amin = -1\n",
    "    m = max(T) \n",
    "    for i, t in enumerate(T):\n",
    "        if t < m and i not in S:\n",
    "            m = t # set new max\n",
    "            amin = i\n",
    "    return amin\n",
    "\n",
    "# creating of a weight table for each node\n",
    "D = ((0, 3, 1, 3, 0, 0), \n",
    "     (3, 0, 4, 0, 0, 0),\n",
    "     (1, 4, 0, 0, 7, 5), \n",
    "     (3, 0, 0, 0, 0, 2),\n",
    "     (0, 0, 7, 0, 0, 4),\n",
    "     (0, 0, 5, 2, 4, 0))\n",
    "N = len(D) # the number of nodes\n",
    "T = [math.inf]*N #creating of the shortest ways\n",
    "\n",
    "v = 0 # the first node\n",
    "S = {v} # the set of checked nodes\n",
    "T[v] = 0\n",
    "\n",
    "while v != -1: #checking all nodes\n",
    "    for j in get_link_v(v, D): # finding only connected nodes\n",
    "        if j not in S: #checking if node v is not in the set S\n",
    "            w = T[v] + D[v][j] # find total weight for the checking node\n",
    "            if w < T[j]: # find min weight to reach this node\n",
    "                T[j] = w\n",
    "                \n",
    "    v = arg_min(T, S) # select the min node to continue\n",
    "    if v > 0: # adding of checking mode to the set S\n",
    "        S.add(v) \n",
    "print(T)\n",
    "    \n",
    "\n",
    "\n"
   ]
  },
  {
   "cell_type": "markdown",
   "id": "ddb4cc47-e8f2-4623-9bd9-7583eb0284f8",
   "metadata": {},
   "source": [
    "<p>(directed) [O(m log n)]</p> "
   ]
  },
  {
   "cell_type": "code",
   "execution_count": 41,
   "id": "52eec398-b366-484f-a703-b3911ee44d07",
   "metadata": {},
   "outputs": [
    {
     "name": "stdout",
     "output_type": "stream",
     "text": [
      "a\n",
      "b\n",
      "start\n",
      "7\n"
     ]
    }
   ],
   "source": [
    "\"\"\"The aim is to find the shortest way from strat to end and its composition\"\"\"\n",
    "# creating of graph\n",
    "graph = {}\n",
    "graph['start'] = {}\n",
    "graph['start']['a'] = 6\n",
    "graph['start']['b'] = 2\n",
    "graph['a'] = {}\n",
    "graph['a']['end'] = 1\n",
    "graph['b'] = {}\n",
    "graph['b']['a'] = 3\n",
    "graph['b']['end'] = 5\n",
    "graph['end'] = {}\n",
    "\n",
    "# creating of costs table\n",
    "infinity = float('inf')\n",
    "costs = {}\n",
    "costs['a'] = 6\n",
    "costs['b'] = 2\n",
    "costs['end'] = infinity\n",
    "\n",
    "# creating the parents' table of the beginning\n",
    "\n",
    "parents = {}\n",
    "parents['a'] = 'start'\n",
    "parents['b'] = 'start'\n",
    "parents['start'] = None\n",
    "\n",
    "processed = [] # a list of checked nodes\n",
    "\n",
    "def find_lowest_cost_node(costs): # finding lowest cost node that is not in processed\n",
    "    lowest_cost = float('inf')\n",
    "    selected_node = None\n",
    "    for node, cost in costs.items():\n",
    "        if node not in processed:\n",
    "            if cost < lowest_cost:\n",
    "                lowest_cost = cost\n",
    "                selected_node = node\n",
    "                return selected_node\n",
    "            \n",
    "            \n",
    "        \n",
    "    \n",
    "node = find_lowest_cost_node(costs)\n",
    "while node is not None: # finish cycle when all nodes are handled\n",
    "    cost = costs[node] \n",
    "    neighbors = graph[node]\n",
    "    for n in neighbors.keys(): # iterate nearest neighbors\n",
    "        new_cost = cost + neighbors[n] #set new cost for nodes\n",
    "        if costs[n] > new_cost: # if way found the shortest way put new parents in table and update costs \n",
    "            costs[n] = new_cost\n",
    "            parents[n] = node\n",
    "    processed.append(node) # add checked nodes\n",
    "    node = find_lowest_cost_node(costs) # finding the lowest cost node from non-checked nodes\n",
    "\n",
    "\n",
    "# displaying results\n",
    "parent = 'end'           \n",
    "while parent != 'start':\n",
    "    parent = parents[parent]\n",
    "    print(parent)\n",
    "print(costs['end'])\n",
    "        \n",
    "    \n",
    "    \n",
    "\n",
    "\n",
    "\n",
    "\n",
    "\n",
    "\n",
    "\n"
   ]
  },
  {
   "cell_type": "markdown",
   "id": "64d2675e-157c-407f-964a-f63cc8d2f673",
   "metadata": {
    "jp-MarkdownHeadingCollapsed": true,
    "tags": []
   },
   "source": [
    "<h2>Floyd algorithm [O(n^3)]</h2>\n"
   ]
  },
  {
   "cell_type": "code",
   "execution_count": 21,
   "id": "04780f47-9fda-42e0-af16-b3a6f340e201",
   "metadata": {},
   "outputs": [
    {
     "name": "stdout",
     "output_type": "stream",
     "text": [
      "[4, 3, 1, 0] 8\n"
     ]
    }
   ],
   "source": [
    "\"\"\" The aim is to find the shortest way to all nodes from every node \"\"\"\n",
    "# creating the graph\n",
    "import math\n",
    "inf = math.inf\n",
    "g = [[0, 2, inf, 3, 1, inf, inf, 10],\n",
    "     [2, 0, 4, inf, inf, inf, inf, inf],\n",
    "     [inf, 4, 0, inf, inf, inf, inf, inf],\n",
    "     [3, inf, inf, 0, inf, inf, inf, 8],\n",
    "     [1, inf, inf, inf, 0, 2, inf, inf],\n",
    "     [inf, inf, inf, inf, 2, 0, 3, inf],\n",
    "     [inf, inf, inf, inf, inf, 3, 0, 1],\n",
    "     [10, inf, 3, 8, inf, inf, 1, 0]]\n",
    "\n",
    "N = len(g)\n",
    "P = [[v for v in range(N)] for u in range(N)] # the graph of node's parents\n",
    "\n",
    "for k in range(N): # the through node\n",
    "    for i in range(N): # the node from\n",
    "        for j in range(N): # the node to\n",
    "            d = g[i][k] + g[k][j]\n",
    "            if g[i][j] > d:\n",
    "                g[i][j] = d\n",
    "                P[i][j] = k\n",
    "\n",
    "# displaying results      \n",
    "def get_path(P, f, s): #getting path by using parent's graph\n",
    "    path = [f]\n",
    "    while f != s: \n",
    "        f = P[f][s]\n",
    "        path.append(f)\n",
    "    return path\n",
    "\n",
    "def get_min_weight(g, f, s): # getting the min weight\n",
    "    return g[s][f]\n",
    "\n",
    "start = 1\n",
    "finish = 7\n",
    "print(get_path(P, finish, start),\n",
    "     get_min_weight(g, finish, start), end=\"\\n\")\n",
    "\n",
    "    \n",
    "            "
   ]
  },
  {
   "cell_type": "code",
   "execution_count": null,
   "id": "70ec53e8-d6bf-4222-98bd-f2eb7d837652",
   "metadata": {},
   "outputs": [],
   "source": [
    "\"\"\"this method creates new links leaving no more than 3 nodes on the simplified path\"\"\"\n"
   ]
  },
  {
   "cell_type": "markdown",
   "id": "0ef5de9a-bfa8-4286-8a9c-30be41a29af4",
   "metadata": {
    "jp-MarkdownHeadingCollapsed": true,
    "tags": []
   },
   "source": [
    "<h2> Ford-Fulkerson algorithm [O(VE)]</h2>"
   ]
  },
  {
   "cell_type": "code",
   "execution_count": null,
   "id": "19c73935-6a37-4490-90f6-ccb4d25b6c71",
   "metadata": {},
   "outputs": [],
   "source": []
  },
  {
   "cell_type": "code",
   "execution_count": 6,
   "id": "e01b721f-6dc7-495b-91e5-c094ae56946a",
   "metadata": {},
   "outputs": [
    {
     "name": "stdout",
     "output_type": "stream",
     "text": [
      "Max flow equals to 60\n"
     ]
    }
   ],
   "source": [
    "\"\"\"The aim is to find max flow from the start vertex to the end\"\"\"\n",
    "import math\n",
    "\n",
    "\"\"\"preparing of the functions\"\"\"\n",
    "def get_max_vertex(k, V, S):\n",
    "    m = 0 # the lowest allowed value\n",
    "    v = -1\n",
    "    for i, w in enumerate(V[k]):\n",
    "        if i in S:\n",
    "            continue\n",
    "        if w[2] == 1: # if forward flow\n",
    "            if m < w[0]:\n",
    "                m = w[0]\n",
    "                v = i\n",
    "        else: # if reverse flow\n",
    "            if m < w[1]:\n",
    "                m = w[1]\n",
    "                v = i\n",
    "    return v\n",
    "\n",
    "def get_max_flow(T): \n",
    "    w = [x[0] for x in T]\n",
    "    return min(*w) \n",
    "\n",
    "def updateV(V, T, f): # updating throughputs of vertexes\n",
    "    for t in T:\n",
    "        if t[1] == -1:\n",
    "            continue\n",
    "        sgn = V[t[2]][t[1]][2]\n",
    "        V[t[1]][t[2]][0] -= f * sgn\n",
    "        V[t[1]][t[2]][1] += f * sgn\n",
    "        V[t[2]][t[1]][0] -= f *sgn\n",
    "        V[t[2]][t[1]][1] += f *sgn\n",
    "            \n",
    "        \n",
    "\"\"\"preparing of the graph\"\"\"\n",
    "# creating a graph where in [1, 2, 3]\n",
    "# 1 - forward flow\n",
    "# 2 - reverse flow\n",
    "# 3 - marker of flow direction\n",
    "V =[[[0, 0, 1], [20, 0, 1], [30, 0, 1], [10, 0, 1], [0, 0, 1]],\n",
    "   [[20, 0, -1], [0, 0, 1], [40, 0, 1], [0, 0, 1], [30, 0, 1]],\n",
    "    [[30, 0, -1], [40, 0, -1], [0, 0, 1], [10, 0, 1], [20, 0, 1]],\n",
    "    [[10, 0, -1], [0, 0, 1], [10, 0, -1], [0, 0, 1], [20, 0, 1]],\n",
    "    [[0, 0, 1], [30, 0, -1], [20, 0, -1], [20, 0, -1], [0, 0, 1]],]\n",
    "N = len(V)\n",
    "init = 0 \n",
    "end = 4\n",
    "Tinit = (math.inf, -1, init) # the first mark of a path \n",
    "f = [] # max flow of found paths\n",
    "\n",
    "\n",
    "\"\"\"algorithm realization\"\"\"\n",
    "j = init\n",
    "while j != -1:\n",
    "    k = init # the start vertex\n",
    "    T = [Tinit] # the marks of a path\n",
    "    S = {init} # the set of processed vertexes\n",
    "    \n",
    "    while k != end: # till run into end\n",
    "        j = get_max_vertex(k, V, S) # get the vertex with max throughput\n",
    "        if j == -1: # if there aren't any vertexes\n",
    "            if k == init: # and if it is an init\n",
    "                break\n",
    "            else:\n",
    "                k = T.pop()[2] # take previous vertex\n",
    "                continue\n",
    "        c = V[k][j][0] if V[k][j][2] ==1 else V[k][j][1] # define the direction of flow\n",
    "        T.append((c, j, k)) # add a mark of path \n",
    "        S.add(j) \n",
    "        \n",
    "        if j == end:\n",
    "            f.append(get_max_flow(T)) # finding the max throughput of path\n",
    "            updateV(V, T, f[-1]) # update of the weight of edges\n",
    "            break\n",
    "         \n",
    "        k = j\n",
    "\n",
    "F = sum(f)\n",
    "print(f'Max flow equals to {F}')\n",
    "\n",
    "    \n",
    "\n",
    "        \n",
    "    \n",
    "    \n"
   ]
  },
  {
   "cell_type": "markdown",
   "id": "2440f47c-101d-4bdf-8f83-5243b528be4f",
   "metadata": {
    "jp-MarkdownHeadingCollapsed": true,
    "tags": []
   },
   "source": [
    "<h2> Dynamic programming </h2>"
   ]
  },
  {
   "cell_type": "code",
   "execution_count": 2,
   "id": "822c3a0a-fa7d-4f2f-a897-1fba562662f0",
   "metadata": {},
   "outputs": [
    {
     "name": "stdout",
     "output_type": "stream",
     "text": [
      "[0, 0, 0, 3000]\n",
      "[0, 1500, 1500, 3000]\n",
      "[0, 1500, 1500, 3000]\n",
      "[0, 2000, 3500, 3500]\n"
     ]
    }
   ],
   "source": [
    "\n",
    "weight = 4\n",
    "tools = {'recorder': [3000, 4], 'guitar': [1500, 1], 'laptop': [2000, 3], 'phone': [2000, 1]}\n",
    "\n",
    "\n",
    "bag = [[0,0,0,0],\n",
    "       [0,0,0,0], \n",
    "       [0,0,0,0], \n",
    "       [0, 0, 0, 0]]\n",
    "\n",
    "# bag = [[[0] *weight]*len(tools.keys())]\n",
    "\n",
    "\n",
    "for t in range(len(tools.keys())):\n",
    "    for w in range(1, weight+1):\n",
    "        if t == 0:\n",
    "            if tools[list(tools.keys())[t]][1] <= w:\n",
    "                bag[t][w-1] = tools[list(tools.keys())[0]][0]\n",
    "        else: \n",
    "            if tools[list(tools.keys())[t]][1] <= w:\n",
    "                    if bag[t-1][w-1] < tools[list(tools.keys())[t]][0] + bag[t-1][w - tools[list(tools.keys())[t]][1] - 1] if w - tools[list(tools.keys())[t]][1] > 0 else 0:\n",
    "                        bag[t][w-1] = tools[list(tools.keys())[t]][0] + bag[t-1][w - tools[list(tools.keys())[t]][1] - 1]\n",
    "                    else:\n",
    "                        bag[t][w-1] = bag[t-1][w-1]\n",
    "            else:\n",
    "                bag[t][w-1] = bag[t-1][w-1]\n",
    "for i in bag:\n",
    "    print(i)"
   ]
  },
  {
   "cell_type": "markdown",
   "id": "3d4ebaf5-24f1-4924-ace0-49e3c153e0c3",
   "metadata": {
    "jp-MarkdownHeadingCollapsed": true,
    "tags": []
   },
   "source": [
    "<h2> Kraskal algorithm [O(n*2)] </h2>"
   ]
  },
  {
   "cell_type": "code",
   "execution_count": 5,
   "id": "b91c124d-c523-4586-8953-9c64048f63ee",
   "metadata": {},
   "outputs": [
    {
     "name": "stdout",
     "output_type": "stream",
     "text": [
      "[(3, 3, 4), (13, 1, 2), (14, 1, 5), (19, 4, 6), (17, 1, 4)]\n"
     ]
    }
   ],
   "source": [
    "\"\"\"the aim is to create a graph of ostovs that don't compose any cycles\"\"\"\n",
    "# a list of graph's edges (length, vertex 1, vertex 2)\n",
    "R = [(13, 1, 2), (18, 1, 3), (17, 1, 4), (14, 1, 5),  (22, 1, 6),\n",
    "     (26, 2, 3), (22, 2, 5), (3, 3, 4), (19, 4, 6)] \n",
    "\n",
    "Rs = sorted(R, key=lambda x: x[0]) # sorting by length of edges \n",
    "U = set() # the list of connected vertexes\n",
    "D = {} # the dictionary of isolayed groups of vertexes\n",
    "T = [] # the list of min ostov's edges \n",
    " \n",
    "for r in Rs:\n",
    "    if r[1] not in U or r[2] not in U: # check to avoid cycles of ostov\n",
    "        if r[1] not in U and r[2] not in U: # if both vertexes are not connected then\n",
    "            D[r[1]] = [r[1], r[2]] # key with numbers of vertexes\n",
    "            D[r[2]] = D[r[1]] # and connect them with the same list of vertexes\n",
    "        else:\n",
    "            if not D[r[1]]: # if there's no firts vertex in the dictionary\n",
    "                D[r[2]].append(r[1]) # add the first vertex\n",
    "                D[r[1]] = D[r[2]] # add key with the number of first vertex\n",
    "            else:\n",
    "                D[r[1]].append(r[2]) #else, the same to the second vertex\n",
    "                D[r[2]] = D[r[1]]\n",
    "    \n",
    "        T.append(r) # add an edge in ostov\n",
    "        U.add(r[1]) # add vertexes in U set\n",
    "        U.add(r[2])\n",
    "\n",
    "for r in Rs: # make the second cycle and connect groups of vertexes\n",
    "    if r[1] in D[r[1]] and r[2] not in D[r[1]]: # if vertexes belong to different groups\n",
    "        T.append(r) # add an edge to ostov\n",
    "        gr1 = D[r[1]]\n",
    "        D[r[1]] += D[r[2]] # connect lists of two group vertexes\n",
    "        D[r[2]] += gr1\n",
    "\n",
    "print(T)\n",
    "                "
   ]
  },
  {
   "cell_type": "markdown",
   "id": "cd00c8bd-9a67-4efc-ab6b-69d9a87fd5b9",
   "metadata": {
    "jp-MarkdownHeadingCollapsed": true,
    "tags": []
   },
   "source": [
    "<h2> Prima algorithm / Algorithm of nearest neighbors [O(n^2)] </h2>"
   ]
  },
  {
   "cell_type": "code",
   "execution_count": 1,
   "id": "76e7cda2-3061-4992-b4cf-675f2cd9a04f",
   "metadata": {},
   "outputs": [
    {
     "name": "stdout",
     "output_type": "stream",
     "text": [
      "[(13, 1, 2), (14, 1, 5), (17, 1, 4), (18, 1, 3), (22, 1, 6)]\n"
     ]
    }
   ],
   "source": [
    "# the fucntion of defining the edge with min weight\n",
    "import math\n",
    "\n",
    "def get_min(R, U):\n",
    "    rm = (math.inf, -1, -1) #  put min weight\n",
    "    for v in U: #iterate connected vertexes\n",
    "        rr = min(R, key=lambda x: x[0] if (x[1] == v or x[2] == v) and (x[1] not in U or x[2] not in U) else math.inf) # finding the min weight for a certain vertex\n",
    "        if rm[0] > rr[0]: # set new min value\n",
    "            rm = rr\n",
    "    return rm\n",
    "\n",
    "# creating a graphh\n",
    "R = [(math.inf, -1, -1), (13, 1, 2), (18, 1, 3), (17, 1, 4), (14, 1, 5), (22, 1, 6),\n",
    "     (26, 2, 3), (19, 2, 5), (30, 3, 4), (22, 4, 6)] \n",
    "            \n",
    "N = 6 # the number of vertexes\n",
    "U = {1} # a set of connected vertexes\n",
    "T = [] # a list of ostov's edges \n",
    "\n",
    "while len(U) < N: # while cycle until all vertexes are connected \n",
    "    r = get_min(R, U) # the edge with min weight\n",
    "    if r[0] == math.inf: # if there are no edges - break\n",
    "        break\n",
    "    T.append(r) # add an edge\n",
    "    U.add(r[1]) # add new connected vertexes\n",
    "    U.add(r[2])\n",
    "print(T)"
   ]
  },
  {
   "cell_type": "markdown",
   "id": "949a6187-34f3-4cb2-9d09-0c198ece6914",
   "metadata": {
    "jp-MarkdownHeadingCollapsed": true,
    "tags": []
   },
   "source": [
    "<h2> Merging two ordered lists </h2>"
   ]
  },
  {
   "cell_type": "code",
   "execution_count": 3,
   "id": "bfee7295-0c6b-4a17-8127-f72979623a39",
   "metadata": {},
   "outputs": [
    {
     "name": "stdout",
     "output_type": "stream",
     "text": [
      "[1, 2, 3, 4, 4, 8, 10, 11]\n"
     ]
    }
   ],
   "source": [
    "a = [1, 4, 10, 11]\n",
    "b = [2, 3, 4, 8]\n",
    "c = []\n",
    "i = 0\n",
    "j = 0\n",
    "\n",
    "while i < len(a) and j < len(b):\n",
    "    if a[i] > b[j]:\n",
    "        c.append(b[j])\n",
    "        j += 1\n",
    "    else:\n",
    "        c.append(a[i])\n",
    "        i += 1\n",
    "c += a[i:] + b[j:]\n",
    "print(c)"
   ]
  },
  {
   "cell_type": "markdown",
   "id": "a0aa6031-b917-46c0-841c-1414c007ef64",
   "metadata": {
    "jp-MarkdownHeadingCollapsed": true,
    "tags": []
   },
   "source": [
    "<h2> Stack Last-In-First-Out </h2>"
   ]
  },
  {
   "cell_type": "code",
   "execution_count": 13,
   "id": "a9ead584-bcab-48bd-b1f2-b36f658bed5d",
   "metadata": {},
   "outputs": [
    {
     "name": "stdout",
     "output_type": "stream",
     "text": [
      "Yes\n"
     ]
    }
   ],
   "source": [
    "stg = '((2 + 2) + [4 + 5*{f + f}])'\n",
    "stack = []\n",
    "Flag = True\n",
    "for s in stg: \n",
    "    if s in '([{': # adding symbols in stack\n",
    "        stack.append(s)\n",
    "    elif s in '}])':\n",
    "        if len(stack) == 0: #checking if the stack is empty \n",
    "            Flag = False\n",
    "        check = stack.pop() # take the last symbol\n",
    "        if check == '[' and s == ']':\n",
    "            continue\n",
    "        if check == '{' and s == '}':\n",
    "            continue\n",
    "        if check == '(' and s == ')':\n",
    "            continue\n",
    "        Flag = False\n",
    "        break\n",
    "if Flag and len(stack) == 0: # check if the stack is empty\n",
    "    print('Yes')\n",
    "else:\n",
    "    print('No')\n",
    "        "
   ]
  },
  {
   "cell_type": "code",
   "execution_count": null,
   "id": "b792cf2b-8663-4f99-8940-5b8cdf298d26",
   "metadata": {},
   "outputs": [],
   "source": []
  }
 ],
 "metadata": {
  "kernelspec": {
   "display_name": "Python 3 (ipykernel)",
   "language": "python",
   "name": "python3"
  },
  "language_info": {
   "codemirror_mode": {
    "name": "ipython",
    "version": 3
   },
   "file_extension": ".py",
   "mimetype": "text/x-python",
   "name": "python",
   "nbconvert_exporter": "python",
   "pygments_lexer": "ipython3",
   "version": "3.9.13"
  }
 },
 "nbformat": 4,
 "nbformat_minor": 5
}
