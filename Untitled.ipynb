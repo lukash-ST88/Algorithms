{
 "cells": [
  {
   "cell_type": "code",
   "execution_count": 5,
   "metadata": {},
   "outputs": [
    {
     "name": "stdout",
     "output_type": "stream",
     "text": [
      "[-8, -3, 4, 5, 7, 8, 9]\n"
     ]
    }
   ],
   "source": [
    "import random\n",
    "\n",
    "lst = [9, 5, -3, 4, 7, 8, -8]\n",
    "\n",
    "def quick_sort_by_Hoare(lst):\n",
    "    if lst == []:\n",
    "        return []\n",
    "    r = random.randint(0, len(lst)-1)\n",
    "    less_r = [ less for less in lst if less < lst[r]]\n",
    "    equal_r = [ equal for equal in lst if equal == lst[r]]\n",
    "    more_r = [ more for more in lst if more > lst[r]]\n",
    "    return quick_sort_by_Hoare(less_r) + equal_r + quick_sort_by_Hoare(more_r)\n",
    "\n",
    "print(quick_sort_by_Hoare(lst))"
   ]
  },
  {
   "cell_type": "code",
   "execution_count": null,
   "id": "ad8bd65a",
   "metadata": {
    "vscode": {
     "languageId": "javascript"
    }
   },
   "outputs": [],
   "source": []
  }
 ],
 "metadata": {
  "kernelspec": {
   "display_name": "Python 3",
   "language": "python",
   "name": "python3"
  },
  "language_info": {
   "codemirror_mode": {
    "name": "ipython",
    "version": 3
   },
   "file_extension": ".py",
   "mimetype": "text/x-python",
   "name": "python",
   "nbconvert_exporter": "python",
   "pygments_lexer": "ipython3",
   "version": "3.11.4"
  }
 },
 "nbformat": 4,
 "nbformat_minor": 5
}
